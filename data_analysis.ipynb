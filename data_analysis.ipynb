{
 "cells": [
  {
   "cell_type": "markdown",
   "metadata": {},
   "source": [
    "## Data Analysis for MADAIN (Mole Analysis with Deep Adam-optimized Inception Network)"
   ]
  },
  {
   "cell_type": "code",
   "execution_count": 3,
   "metadata": {},
   "outputs": [],
   "source": [
    "import os\n",
    "import pandas as pd\n",
    "import numpy as np\n",
    "import matplotlib.pyplot as plt\n",
    "import plotly.express as px\n",
    "import seaborn as sns\n",
    "import scipy.stats as stats\n",
    "import squarify"
   ]
  },
  {
   "cell_type": "code",
   "execution_count": 4,
   "metadata": {},
   "outputs": [
    {
     "data": {
      "text/html": [
       "<div>\n",
       "<style scoped>\n",
       "    .dataframe tbody tr th:only-of-type {\n",
       "        vertical-align: middle;\n",
       "    }\n",
       "\n",
       "    .dataframe tbody tr th {\n",
       "        vertical-align: top;\n",
       "    }\n",
       "\n",
       "    .dataframe thead th {\n",
       "        text-align: right;\n",
       "    }\n",
       "</style>\n",
       "<table border=\"1\" class=\"dataframe\">\n",
       "  <thead>\n",
       "    <tr style=\"text-align: right;\">\n",
       "      <th></th>\n",
       "      <th>lesion_id</th>\n",
       "      <th>image_id</th>\n",
       "      <th>dx</th>\n",
       "      <th>dx_type</th>\n",
       "      <th>age</th>\n",
       "      <th>sex</th>\n",
       "      <th>localization</th>\n",
       "    </tr>\n",
       "  </thead>\n",
       "  <tbody>\n",
       "    <tr>\n",
       "      <th>0</th>\n",
       "      <td>HAM_0000118</td>\n",
       "      <td>ISIC_0027419</td>\n",
       "      <td>bkl</td>\n",
       "      <td>histo</td>\n",
       "      <td>80.0</td>\n",
       "      <td>male</td>\n",
       "      <td>scalp</td>\n",
       "    </tr>\n",
       "    <tr>\n",
       "      <th>1</th>\n",
       "      <td>HAM_0000118</td>\n",
       "      <td>ISIC_0025030</td>\n",
       "      <td>bkl</td>\n",
       "      <td>histo</td>\n",
       "      <td>80.0</td>\n",
       "      <td>male</td>\n",
       "      <td>scalp</td>\n",
       "    </tr>\n",
       "    <tr>\n",
       "      <th>2</th>\n",
       "      <td>HAM_0002730</td>\n",
       "      <td>ISIC_0026769</td>\n",
       "      <td>bkl</td>\n",
       "      <td>histo</td>\n",
       "      <td>80.0</td>\n",
       "      <td>male</td>\n",
       "      <td>scalp</td>\n",
       "    </tr>\n",
       "    <tr>\n",
       "      <th>3</th>\n",
       "      <td>HAM_0002730</td>\n",
       "      <td>ISIC_0025661</td>\n",
       "      <td>bkl</td>\n",
       "      <td>histo</td>\n",
       "      <td>80.0</td>\n",
       "      <td>male</td>\n",
       "      <td>scalp</td>\n",
       "    </tr>\n",
       "    <tr>\n",
       "      <th>4</th>\n",
       "      <td>HAM_0001466</td>\n",
       "      <td>ISIC_0031633</td>\n",
       "      <td>bkl</td>\n",
       "      <td>histo</td>\n",
       "      <td>75.0</td>\n",
       "      <td>male</td>\n",
       "      <td>ear</td>\n",
       "    </tr>\n",
       "    <tr>\n",
       "      <th>...</th>\n",
       "      <td>...</td>\n",
       "      <td>...</td>\n",
       "      <td>...</td>\n",
       "      <td>...</td>\n",
       "      <td>...</td>\n",
       "      <td>...</td>\n",
       "      <td>...</td>\n",
       "    </tr>\n",
       "    <tr>\n",
       "      <th>10010</th>\n",
       "      <td>HAM_0002867</td>\n",
       "      <td>ISIC_0033084</td>\n",
       "      <td>akiec</td>\n",
       "      <td>histo</td>\n",
       "      <td>40.0</td>\n",
       "      <td>male</td>\n",
       "      <td>abdomen</td>\n",
       "    </tr>\n",
       "    <tr>\n",
       "      <th>10011</th>\n",
       "      <td>HAM_0002867</td>\n",
       "      <td>ISIC_0033550</td>\n",
       "      <td>akiec</td>\n",
       "      <td>histo</td>\n",
       "      <td>40.0</td>\n",
       "      <td>male</td>\n",
       "      <td>abdomen</td>\n",
       "    </tr>\n",
       "    <tr>\n",
       "      <th>10012</th>\n",
       "      <td>HAM_0002867</td>\n",
       "      <td>ISIC_0033536</td>\n",
       "      <td>akiec</td>\n",
       "      <td>histo</td>\n",
       "      <td>40.0</td>\n",
       "      <td>male</td>\n",
       "      <td>abdomen</td>\n",
       "    </tr>\n",
       "    <tr>\n",
       "      <th>10013</th>\n",
       "      <td>HAM_0000239</td>\n",
       "      <td>ISIC_0032854</td>\n",
       "      <td>akiec</td>\n",
       "      <td>histo</td>\n",
       "      <td>80.0</td>\n",
       "      <td>male</td>\n",
       "      <td>face</td>\n",
       "    </tr>\n",
       "    <tr>\n",
       "      <th>10014</th>\n",
       "      <td>HAM_0003521</td>\n",
       "      <td>ISIC_0032258</td>\n",
       "      <td>mel</td>\n",
       "      <td>histo</td>\n",
       "      <td>70.0</td>\n",
       "      <td>female</td>\n",
       "      <td>back</td>\n",
       "    </tr>\n",
       "  </tbody>\n",
       "</table>\n",
       "<p>10015 rows × 7 columns</p>\n",
       "</div>"
      ],
      "text/plain": [
       "         lesion_id      image_id     dx dx_type   age     sex localization\n",
       "0      HAM_0000118  ISIC_0027419    bkl   histo  80.0    male        scalp\n",
       "1      HAM_0000118  ISIC_0025030    bkl   histo  80.0    male        scalp\n",
       "2      HAM_0002730  ISIC_0026769    bkl   histo  80.0    male        scalp\n",
       "3      HAM_0002730  ISIC_0025661    bkl   histo  80.0    male        scalp\n",
       "4      HAM_0001466  ISIC_0031633    bkl   histo  75.0    male          ear\n",
       "...            ...           ...    ...     ...   ...     ...          ...\n",
       "10010  HAM_0002867  ISIC_0033084  akiec   histo  40.0    male      abdomen\n",
       "10011  HAM_0002867  ISIC_0033550  akiec   histo  40.0    male      abdomen\n",
       "10012  HAM_0002867  ISIC_0033536  akiec   histo  40.0    male      abdomen\n",
       "10013  HAM_0000239  ISIC_0032854  akiec   histo  80.0    male         face\n",
       "10014  HAM_0003521  ISIC_0032258    mel   histo  70.0  female         back\n",
       "\n",
       "[10015 rows x 7 columns]"
      ]
     },
     "execution_count": 4,
     "metadata": {},
     "output_type": "execute_result"
    }
   ],
   "source": [
    "data = pd.read_csv(\"Resources\\Skin Cancer\\Skin Cancer/HAM10000_metadata.csv\")\n",
    "data"
   ]
  },
  {
   "cell_type": "code",
   "execution_count": 5,
   "metadata": {},
   "outputs": [
    {
     "data": {
      "text/html": [
       "<div>\n",
       "<style scoped>\n",
       "    .dataframe tbody tr th:only-of-type {\n",
       "        vertical-align: middle;\n",
       "    }\n",
       "\n",
       "    .dataframe tbody tr th {\n",
       "        vertical-align: top;\n",
       "    }\n",
       "\n",
       "    .dataframe thead th {\n",
       "        text-align: right;\n",
       "    }\n",
       "</style>\n",
       "<table border=\"1\" class=\"dataframe\">\n",
       "  <thead>\n",
       "    <tr style=\"text-align: right;\">\n",
       "      <th></th>\n",
       "      <th>Lesion ID</th>\n",
       "      <th>Image ID</th>\n",
       "      <th>Diagnosis</th>\n",
       "      <th>Diagnosis Type</th>\n",
       "      <th>Age</th>\n",
       "      <th>Sex</th>\n",
       "      <th>Localization</th>\n",
       "    </tr>\n",
       "  </thead>\n",
       "  <tbody>\n",
       "    <tr>\n",
       "      <th>0</th>\n",
       "      <td>HAM_0000118</td>\n",
       "      <td>ISIC_0027419</td>\n",
       "      <td>bkl</td>\n",
       "      <td>histo</td>\n",
       "      <td>80.0</td>\n",
       "      <td>male</td>\n",
       "      <td>scalp</td>\n",
       "    </tr>\n",
       "    <tr>\n",
       "      <th>1</th>\n",
       "      <td>HAM_0000118</td>\n",
       "      <td>ISIC_0025030</td>\n",
       "      <td>bkl</td>\n",
       "      <td>histo</td>\n",
       "      <td>80.0</td>\n",
       "      <td>male</td>\n",
       "      <td>scalp</td>\n",
       "    </tr>\n",
       "    <tr>\n",
       "      <th>2</th>\n",
       "      <td>HAM_0002730</td>\n",
       "      <td>ISIC_0026769</td>\n",
       "      <td>bkl</td>\n",
       "      <td>histo</td>\n",
       "      <td>80.0</td>\n",
       "      <td>male</td>\n",
       "      <td>scalp</td>\n",
       "    </tr>\n",
       "    <tr>\n",
       "      <th>3</th>\n",
       "      <td>HAM_0002730</td>\n",
       "      <td>ISIC_0025661</td>\n",
       "      <td>bkl</td>\n",
       "      <td>histo</td>\n",
       "      <td>80.0</td>\n",
       "      <td>male</td>\n",
       "      <td>scalp</td>\n",
       "    </tr>\n",
       "    <tr>\n",
       "      <th>4</th>\n",
       "      <td>HAM_0001466</td>\n",
       "      <td>ISIC_0031633</td>\n",
       "      <td>bkl</td>\n",
       "      <td>histo</td>\n",
       "      <td>75.0</td>\n",
       "      <td>male</td>\n",
       "      <td>ear</td>\n",
       "    </tr>\n",
       "    <tr>\n",
       "      <th>...</th>\n",
       "      <td>...</td>\n",
       "      <td>...</td>\n",
       "      <td>...</td>\n",
       "      <td>...</td>\n",
       "      <td>...</td>\n",
       "      <td>...</td>\n",
       "      <td>...</td>\n",
       "    </tr>\n",
       "    <tr>\n",
       "      <th>10010</th>\n",
       "      <td>HAM_0002867</td>\n",
       "      <td>ISIC_0033084</td>\n",
       "      <td>akiec</td>\n",
       "      <td>histo</td>\n",
       "      <td>40.0</td>\n",
       "      <td>male</td>\n",
       "      <td>abdomen</td>\n",
       "    </tr>\n",
       "    <tr>\n",
       "      <th>10011</th>\n",
       "      <td>HAM_0002867</td>\n",
       "      <td>ISIC_0033550</td>\n",
       "      <td>akiec</td>\n",
       "      <td>histo</td>\n",
       "      <td>40.0</td>\n",
       "      <td>male</td>\n",
       "      <td>abdomen</td>\n",
       "    </tr>\n",
       "    <tr>\n",
       "      <th>10012</th>\n",
       "      <td>HAM_0002867</td>\n",
       "      <td>ISIC_0033536</td>\n",
       "      <td>akiec</td>\n",
       "      <td>histo</td>\n",
       "      <td>40.0</td>\n",
       "      <td>male</td>\n",
       "      <td>abdomen</td>\n",
       "    </tr>\n",
       "    <tr>\n",
       "      <th>10013</th>\n",
       "      <td>HAM_0000239</td>\n",
       "      <td>ISIC_0032854</td>\n",
       "      <td>akiec</td>\n",
       "      <td>histo</td>\n",
       "      <td>80.0</td>\n",
       "      <td>male</td>\n",
       "      <td>face</td>\n",
       "    </tr>\n",
       "    <tr>\n",
       "      <th>10014</th>\n",
       "      <td>HAM_0003521</td>\n",
       "      <td>ISIC_0032258</td>\n",
       "      <td>mel</td>\n",
       "      <td>histo</td>\n",
       "      <td>70.0</td>\n",
       "      <td>female</td>\n",
       "      <td>back</td>\n",
       "    </tr>\n",
       "  </tbody>\n",
       "</table>\n",
       "<p>10015 rows × 7 columns</p>\n",
       "</div>"
      ],
      "text/plain": [
       "         Lesion ID      Image ID Diagnosis Diagnosis Type   Age     Sex  \\\n",
       "0      HAM_0000118  ISIC_0027419       bkl          histo  80.0    male   \n",
       "1      HAM_0000118  ISIC_0025030       bkl          histo  80.0    male   \n",
       "2      HAM_0002730  ISIC_0026769       bkl          histo  80.0    male   \n",
       "3      HAM_0002730  ISIC_0025661       bkl          histo  80.0    male   \n",
       "4      HAM_0001466  ISIC_0031633       bkl          histo  75.0    male   \n",
       "...            ...           ...       ...            ...   ...     ...   \n",
       "10010  HAM_0002867  ISIC_0033084     akiec          histo  40.0    male   \n",
       "10011  HAM_0002867  ISIC_0033550     akiec          histo  40.0    male   \n",
       "10012  HAM_0002867  ISIC_0033536     akiec          histo  40.0    male   \n",
       "10013  HAM_0000239  ISIC_0032854     akiec          histo  80.0    male   \n",
       "10014  HAM_0003521  ISIC_0032258       mel          histo  70.0  female   \n",
       "\n",
       "      Localization  \n",
       "0            scalp  \n",
       "1            scalp  \n",
       "2            scalp  \n",
       "3            scalp  \n",
       "4              ear  \n",
       "...            ...  \n",
       "10010      abdomen  \n",
       "10011      abdomen  \n",
       "10012      abdomen  \n",
       "10013         face  \n",
       "10014         back  \n",
       "\n",
       "[10015 rows x 7 columns]"
      ]
     },
     "execution_count": 5,
     "metadata": {},
     "output_type": "execute_result"
    }
   ],
   "source": [
    "data = data.rename(columns={\n",
    "    'lesion_id': 'Lesion ID',\n",
    "    'image_id': 'Image ID',\n",
    "    'dx': 'Diagnosis',\n",
    "    'dx_type': 'Diagnosis Type',\n",
    "    'age': 'Age',\n",
    "    'sex': 'Sex',\n",
    "    'localization': 'Localization'\n",
    "})\n",
    "data"
   ]
  },
  {
   "cell_type": "code",
   "execution_count": 6,
   "metadata": {},
   "outputs": [
    {
     "data": {
      "text/html": [
       "<div>\n",
       "<style scoped>\n",
       "    .dataframe tbody tr th:only-of-type {\n",
       "        vertical-align: middle;\n",
       "    }\n",
       "\n",
       "    .dataframe tbody tr th {\n",
       "        vertical-align: top;\n",
       "    }\n",
       "\n",
       "    .dataframe thead th {\n",
       "        text-align: right;\n",
       "    }\n",
       "</style>\n",
       "<table border=\"1\" class=\"dataframe\">\n",
       "  <thead>\n",
       "    <tr style=\"text-align: right;\">\n",
       "      <th></th>\n",
       "      <th>Lesion ID</th>\n",
       "      <th>Image ID</th>\n",
       "      <th>Diagnosis</th>\n",
       "      <th>Diagnosis Type</th>\n",
       "      <th>Age</th>\n",
       "      <th>Sex</th>\n",
       "      <th>Localization</th>\n",
       "    </tr>\n",
       "  </thead>\n",
       "  <tbody>\n",
       "    <tr>\n",
       "      <th>0</th>\n",
       "      <td>HAM_0000118</td>\n",
       "      <td>ISIC_0027419</td>\n",
       "      <td>Benign Keratosis</td>\n",
       "      <td>histo</td>\n",
       "      <td>80.0</td>\n",
       "      <td>male</td>\n",
       "      <td>scalp</td>\n",
       "    </tr>\n",
       "    <tr>\n",
       "      <th>1</th>\n",
       "      <td>HAM_0000118</td>\n",
       "      <td>ISIC_0025030</td>\n",
       "      <td>Benign Keratosis</td>\n",
       "      <td>histo</td>\n",
       "      <td>80.0</td>\n",
       "      <td>male</td>\n",
       "      <td>scalp</td>\n",
       "    </tr>\n",
       "    <tr>\n",
       "      <th>2</th>\n",
       "      <td>HAM_0002730</td>\n",
       "      <td>ISIC_0026769</td>\n",
       "      <td>Benign Keratosis</td>\n",
       "      <td>histo</td>\n",
       "      <td>80.0</td>\n",
       "      <td>male</td>\n",
       "      <td>scalp</td>\n",
       "    </tr>\n",
       "    <tr>\n",
       "      <th>3</th>\n",
       "      <td>HAM_0002730</td>\n",
       "      <td>ISIC_0025661</td>\n",
       "      <td>Benign Keratosis</td>\n",
       "      <td>histo</td>\n",
       "      <td>80.0</td>\n",
       "      <td>male</td>\n",
       "      <td>scalp</td>\n",
       "    </tr>\n",
       "    <tr>\n",
       "      <th>4</th>\n",
       "      <td>HAM_0001466</td>\n",
       "      <td>ISIC_0031633</td>\n",
       "      <td>Benign Keratosis</td>\n",
       "      <td>histo</td>\n",
       "      <td>75.0</td>\n",
       "      <td>male</td>\n",
       "      <td>ear</td>\n",
       "    </tr>\n",
       "    <tr>\n",
       "      <th>...</th>\n",
       "      <td>...</td>\n",
       "      <td>...</td>\n",
       "      <td>...</td>\n",
       "      <td>...</td>\n",
       "      <td>...</td>\n",
       "      <td>...</td>\n",
       "      <td>...</td>\n",
       "    </tr>\n",
       "    <tr>\n",
       "      <th>10010</th>\n",
       "      <td>HAM_0002867</td>\n",
       "      <td>ISIC_0033084</td>\n",
       "      <td>Actinic Keratosis</td>\n",
       "      <td>histo</td>\n",
       "      <td>40.0</td>\n",
       "      <td>male</td>\n",
       "      <td>abdomen</td>\n",
       "    </tr>\n",
       "    <tr>\n",
       "      <th>10011</th>\n",
       "      <td>HAM_0002867</td>\n",
       "      <td>ISIC_0033550</td>\n",
       "      <td>Actinic Keratosis</td>\n",
       "      <td>histo</td>\n",
       "      <td>40.0</td>\n",
       "      <td>male</td>\n",
       "      <td>abdomen</td>\n",
       "    </tr>\n",
       "    <tr>\n",
       "      <th>10012</th>\n",
       "      <td>HAM_0002867</td>\n",
       "      <td>ISIC_0033536</td>\n",
       "      <td>Actinic Keratosis</td>\n",
       "      <td>histo</td>\n",
       "      <td>40.0</td>\n",
       "      <td>male</td>\n",
       "      <td>abdomen</td>\n",
       "    </tr>\n",
       "    <tr>\n",
       "      <th>10013</th>\n",
       "      <td>HAM_0000239</td>\n",
       "      <td>ISIC_0032854</td>\n",
       "      <td>Actinic Keratosis</td>\n",
       "      <td>histo</td>\n",
       "      <td>80.0</td>\n",
       "      <td>male</td>\n",
       "      <td>face</td>\n",
       "    </tr>\n",
       "    <tr>\n",
       "      <th>10014</th>\n",
       "      <td>HAM_0003521</td>\n",
       "      <td>ISIC_0032258</td>\n",
       "      <td>Melanoma</td>\n",
       "      <td>histo</td>\n",
       "      <td>70.0</td>\n",
       "      <td>female</td>\n",
       "      <td>back</td>\n",
       "    </tr>\n",
       "  </tbody>\n",
       "</table>\n",
       "<p>10015 rows × 7 columns</p>\n",
       "</div>"
      ],
      "text/plain": [
       "         Lesion ID      Image ID          Diagnosis Diagnosis Type   Age  \\\n",
       "0      HAM_0000118  ISIC_0027419   Benign Keratosis          histo  80.0   \n",
       "1      HAM_0000118  ISIC_0025030   Benign Keratosis          histo  80.0   \n",
       "2      HAM_0002730  ISIC_0026769   Benign Keratosis          histo  80.0   \n",
       "3      HAM_0002730  ISIC_0025661   Benign Keratosis          histo  80.0   \n",
       "4      HAM_0001466  ISIC_0031633   Benign Keratosis          histo  75.0   \n",
       "...            ...           ...                ...            ...   ...   \n",
       "10010  HAM_0002867  ISIC_0033084  Actinic Keratosis          histo  40.0   \n",
       "10011  HAM_0002867  ISIC_0033550  Actinic Keratosis          histo  40.0   \n",
       "10012  HAM_0002867  ISIC_0033536  Actinic Keratosis          histo  40.0   \n",
       "10013  HAM_0000239  ISIC_0032854  Actinic Keratosis          histo  80.0   \n",
       "10014  HAM_0003521  ISIC_0032258           Melanoma          histo  70.0   \n",
       "\n",
       "          Sex Localization  \n",
       "0        male        scalp  \n",
       "1        male        scalp  \n",
       "2        male        scalp  \n",
       "3        male        scalp  \n",
       "4        male          ear  \n",
       "...       ...          ...  \n",
       "10010    male      abdomen  \n",
       "10011    male      abdomen  \n",
       "10012    male      abdomen  \n",
       "10013    male         face  \n",
       "10014  female         back  \n",
       "\n",
       "[10015 rows x 7 columns]"
      ]
     },
     "execution_count": 6,
     "metadata": {},
     "output_type": "execute_result"
    }
   ],
   "source": [
    "replacement_dict = {'mel': 'Melanoma', 'akiec': 'Actinic Keratosis', 'bcc': 'Basal Cell Carcinoma', 'bkl': 'Benign Keratosis', 'df': 'Dermatofibroma', 'nv': 'Melanocytic Nevi', 'vasc': 'Vascular Lesions'}\n",
    "data['Diagnosis'] = data['Diagnosis'].replace(replacement_dict)\n",
    "data"
   ]
  },
  {
   "cell_type": "code",
   "execution_count": 7,
   "metadata": {},
   "outputs": [],
   "source": [
    "data.to_csv('C:\\\\Users\\\\natal\\\\OneDrive\\\\Desktop\\\\Classwork\\\\NU-VIRT-DATA-PT-10-2023-U-LOLC\\\\02-Homework\\\\24-Project-4\\\\data.csv', index=False)"
   ]
  },
  {
   "cell_type": "markdown",
   "metadata": {},
   "source": [
    "### Key Demographic and Diagnostic Plots\n",
    "##### This code snippet creates a series of visualizations based on our dataset which includes information about patient diagnoses, age, sex, and lesion localizations."
   ]
  },
  {
   "cell_type": "code",
   "execution_count": 8,
   "metadata": {},
   "outputs": [
    {
     "data": {
      "image/png": "[encoded data removed]",
      "text/plain": [
       "<Figure size 1200x1000 with 4 Axes>"
      ]
     },
     "metadata": {},
     "output_type": "display_data"
    }
   ],
   "source": [
    "data['Diagnosis'] = data['Diagnosis'].replace(replacement_dict)\n",
    "\n",
    "data = data[data['Sex'] != 'unknown']\n",
    "\n",
    "diagnosis_counts = data['Diagnosis'].value_counts()\n",
    "\n",
    "age_distribution = data['Age'].dropna()\n",
    "\n",
    "sex_distribution = data['Sex'].value_counts()\n",
    "\n",
    "localization_distribution = data['Localization'].value_counts()\n",
    "\n",
    "fig, axs = plt.subplots(2, 2, figsize=(12, 10))\n",
    "\n",
    "axs[0, 0].bar(diagnosis_counts.index, diagnosis_counts.values, color='#FFDAB9')\n",
    "axs[0, 0].set_title('Distribution of Diagnosis Types')\n",
    "axs[0, 0].set_ylabel('Counts')\n",
    "axs[0, 0].tick_params(axis='x', rotation=45)\n",
    "\n",
    "axs[0, 1].hist(age_distribution, bins=30, color='#A55D35')\n",
    "axs[0, 1].set_title('Age Distribution of Patients')\n",
    "axs[0, 1].set_xlabel('Age')\n",
    "axs[0, 1].set_ylabel('Frequency')\n",
    "\n",
    "axs[1, 0].bar(sex_distribution.index, sex_distribution.values, color='#473810')\n",
    "axs[1, 0].set_title('Sex Distribution of Patients')\n",
    "axs[1, 0].set_ylabel('Counts')\n",
    "\n",
    "axs[1, 1].bar(localization_distribution.index, localization_distribution.values, color='#3D0C02')\n",
    "axs[1, 1].set_title('Localization of Lesions')\n",
    "axs[1, 1].set_ylabel('Counts')\n",
    "axs[1, 1].tick_params(axis='x', rotation=70)\n",
    "\n",
    "plt.tight_layout()\n",
    "plt.show()\n"
   ]
  },
  {
   "cell_type": "markdown",
   "metadata": {},
   "source": [
    "### Interactive Bubble Plot\n",
    "##### Created an interactive bubble plot to vizualize these demographics and diagnoses for our presentation."
   ]
  },
  {
   "cell_type": "code",
   "execution_count": 9,
   "metadata": {},
   "outputs": [
    {
     "data": {
      "application/vnd.plotly.v1+json": {
       "config": {
        "plotlyServerURL": "https://plotly.com"
       },
       "data": [
        {
         "hovertemplate": "<b>%{hovertext}</b><br><br>Diagnosis=Melanoma<br>Average Age=%{x}<br>Localization=%{y}<br>Frequency of Diagnoses=%{marker.size}<extra></extra>",
         "hovertext": [
          "Melanoma",
          "Melanoma",
          "Melanoma",
          "Melanoma",
          "Melanoma",
          "Melanoma",
          "Melanoma",
          "Melanoma",
          "Melanoma",
          "Melanoma",
          "Melanoma",
          "Melanoma",
          "Melanoma"
         ],
         "legendgroup": "Melanoma",
         "marker": {
          "color": "#1d0200",
          "size": [
           66,
           324,
           68,
           17,
           104,
           28,
           1,
           192,
           29,
           14,
           47,
           10,
           213
          ],
          "sizemode": "area",
          "sizeref": 0.1479,
          "symbol": "circle"
         },
         "mode": "markers",
         "name": "Melanoma",
         "orientation": "h",
         "showlegend": true,
         "type": "scatter",
         "x": [
          59.166666666666664,
          59.52160493827161,
          60.73529411764706,
          64.70588235294117,
          66.61764705882354,
          65,
          70,
          58.151041666666664,
          60.51724137931034,
          67.5,
          59.57446808510638,
          69,
          60.821596244131456
         ],
         "xaxis": "x",
         "y": [
          "abdomen",
          "back",
          "chest",
          "ear",
          "face",
          "foot",
          "hand",
          "lower extremity",
          "neck",
          "scalp",
          "trunk",
          "unknown",
          "upper extremity"
         ],
         "yaxis": "y"
        },
        {
         "hovertemplate": "<b>%{hovertext}</b><br><br>Diagnosis=Basal Cell Carcinoma<br>Average Age=%{x}<br>Localization=%{y}<br>Frequency of Diagnoses=%{marker.size}<extra></extra>",
         "hovertext": [
          "Basal Cell Carcinoma",
          "Basal Cell Carcinoma",
          "Basal Cell Carcinoma",
          "Basal Cell Carcinoma",
          "Basal Cell Carcinoma",
          "Basal Cell Carcinoma",
          "Basal Cell Carcinoma",
          "Basal Cell Carcinoma",
          "Basal Cell Carcinoma",
          "Basal Cell Carcinoma",
          "Basal Cell Carcinoma",
          "Basal Cell Carcinoma"
         ],
         "legendgroup": "Basal Cell Carcinoma",
         "marker": {
          "color": "#840000",
          "size": [
           18,
           186,
           47,
           101,
           4,
           2,
           58,
           14,
           19,
           11,
           5,
           49
          ],
          "sizemode": "area",
          "sizeref": 0.1479,
          "symbol": "circle"
         },
         "mode": "markers",
         "name": "Basal Cell Carcinoma",
         "orientation": "h",
         "showlegend": true,
         "type": "scatter",
         "x": [
          58.05555555555556,
          64.40860215053763,
          64.04255319148936,
          71.33663366336634,
          77.5,
          65,
          68.87931034482759,
          71.07142857142857,
          74.73684210526316,
          59.09090909090909,
          58,
          67.75510204081633
         ],
         "xaxis": "x",
         "y": [
          "abdomen",
          "back",
          "chest",
          "face",
          "foot",
          "hand",
          "lower extremity",
          "neck",
          "scalp",
          "trunk",
          "unknown",
          "upper extremity"
         ],
         "yaxis": "y"
        },
        {
         "hovertemplate": "<b>%{hovertext}</b><br><br>Diagnosis=Actinic Keratosis<br>Average Age=%{x}<br>Localization=%{y}<br>Frequency of Diagnoses=%{marker.size}<extra></extra>",
         "hovertext": [
          "Actinic Keratosis",
          "Actinic Keratosis",
          "Actinic Keratosis",
          "Actinic Keratosis",
          "Actinic Keratosis",
          "Actinic Keratosis",
          "Actinic Keratosis",
          "Actinic Keratosis",
          "Actinic Keratosis",
          "Actinic Keratosis",
          "Actinic Keratosis"
         ],
         "legendgroup": "Actinic Keratosis",
         "marker": {
          "color": "#c44240",
          "size": [
           5,
           29,
           12,
           3,
           113,
           13,
           65,
           10,
           14,
           1,
           62
          ],
          "sizemode": "area",
          "sizeref": 0.1479,
          "symbol": "circle"
         },
         "mode": "markers",
         "name": "Actinic Keratosis",
         "orientation": "h",
         "showlegend": true,
         "type": "scatter",
         "x": [
          52,
          66.55172413793103,
          72.08333333333333,
          66.66666666666667,
          62.65486725663717,
          64.61538461538461,
          69.53846153846153,
          64.5,
          73.21428571428571,
          45,
          70.08064516129032
         ],
         "xaxis": "x",
         "y": [
          "abdomen",
          "back",
          "chest",
          "ear",
          "face",
          "hand",
          "lower extremity",
          "neck",
          "scalp",
          "trunk",
          "upper extremity"
         ],
         "yaxis": "y"
        },
        {
         "hovertemplate": "<b>%{hovertext}</b><br><br>Diagnosis=Vascular Lesions<br>Average Age=%{x}<br>Localization=%{y}<br>Frequency of Diagnoses=%{marker.size}<extra></extra>",
         "hovertext": [
          "Vascular Lesions",
          "Vascular Lesions",
          "Vascular Lesions",
          "Vascular Lesions",
          "Vascular Lesions",
          "Vascular Lesions",
          "Vascular Lesions",
          "Vascular Lesions",
          "Vascular Lesions",
          "Vascular Lesions"
         ],
         "legendgroup": "Vascular Lesions",
         "marker": {
          "color": "#fdd5b1",
          "size": [
           27,
           22,
           6,
           8,
           5,
           27,
           3,
           2,
           31,
           11
          ],
          "sizemode": "area",
          "sizeref": 0.1479,
          "symbol": "circle"
         },
         "mode": "markers",
         "name": "Vascular Lesions",
         "orientation": "h",
         "showlegend": true,
         "type": "scatter",
         "x": [
          53.148148148148145,
          45.45454545454545,
          34.166666666666664,
          45.625,
          57,
          58.51851851851852,
          55,
          42.5,
          50.483870967741936,
          55.45454545454545
         ],
         "xaxis": "x",
         "y": [
          "abdomen",
          "back",
          "chest",
          "face",
          "hand",
          "lower extremity",
          "neck",
          "scalp",
          "trunk",
          "upper extremity"
         ],
         "yaxis": "y"
        },
        {
         "hovertemplate": "<b>%{hovertext}</b><br><br>Diagnosis=Benign Keratosis<br>Average Age=%{x}<br>Localization=%{y}<br>Frequency of Diagnoses=%{marker.size}<extra></extra>",
         "hovertext": [
          "Benign Keratosis",
          "Benign Keratosis",
          "Benign Keratosis",
          "Benign Keratosis",
          "Benign Keratosis",
          "Benign Keratosis",
          "Benign Keratosis",
          "Benign Keratosis",
          "Benign Keratosis",
          "Benign Keratosis",
          "Benign Keratosis",
          "Benign Keratosis",
          "Benign Keratosis",
          "Benign Keratosis"
         ],
         "legendgroup": "Benign Keratosis",
         "marker": {
          "color": "#ff9a8a",
          "size": [
           42,
           202,
           74,
           6,
           319,
           1,
           2,
           14,
           174,
           31,
           34,
           73,
           13,
           104
          ],
          "sizemode": "area",
          "sizeref": 0.1479,
          "symbol": "circle"
         },
         "mode": "markers",
         "name": "Benign Keratosis",
         "orientation": "h",
         "showlegend": true,
         "type": "scatter",
         "x": [
          55.23809523809524,
          66.53465346534654,
          64.45945945945945,
          70,
          63.62068965517241,
          40,
          65,
          67.5,
          63.50574712643678,
          63.54838709677419,
          69.26470588235294,
          65.06849315068493,
          57.30769230769231,
          65.14423076923077
         ],
         "xaxis": "x",
         "y": [
          "abdomen",
          "back",
          "chest",
          "ear",
          "face",
          "foot",
          "genital",
          "hand",
          "lower extremity",
          "neck",
          "scalp",
          "trunk",
          "unknown",
          "upper extremity"
         ],
         "yaxis": "y"
        },
        {
         "hovertemplate": "<b>%{hovertext}</b><br><br>Diagnosis=Dermatofibroma<br>Average Age=%{x}<br>Localization=%{y}<br>Frequency of Diagnoses=%{marker.size}<extra></extra>",
         "hovertext": [
          "Dermatofibroma",
          "Dermatofibroma",
          "Dermatofibroma",
          "Dermatofibroma",
          "Dermatofibroma",
          "Dermatofibroma"
         ],
         "legendgroup": "Dermatofibroma",
         "marker": {
          "color": "#bd6c48",
          "size": [
           4,
           2,
           2,
           1,
           82,
           24
          ],
          "sizemode": "area",
          "sizeref": 0.1479,
          "symbol": "circle"
         },
         "mode": "markers",
         "name": "Dermatofibroma",
         "orientation": "h",
         "showlegend": true,
         "type": "scatter",
         "x": [
          48.75,
          75,
          65,
          50,
          51.34146341463415,
          56.875
         ],
         "xaxis": "x",
         "y": [
          "abdomen",
          "back",
          "foot",
          "genital",
          "lower extremity",
          "upper extremity"
         ],
         "yaxis": "y"
        },
        {
         "hovertemplate": "<b>%{hovertext}</b><br><br>Diagnosis=Melanocytic Nevi<br>Average Age=%{x}<br>Localization=%{y}<br>Frequency of Diagnoses=%{marker.size}<extra></extra>",
         "hovertext": [
          "Melanocytic Nevi",
          "Melanocytic Nevi",
          "Melanocytic Nevi",
          "Melanocytic Nevi",
          "Melanocytic Nevi",
          "Melanocytic Nevi",
          "Melanocytic Nevi",
          "Melanocytic Nevi",
          "Melanocytic Nevi",
          "Melanocytic Nevi",
          "Melanocytic Nevi",
          "Melanocytic Nevi",
          "Melanocytic Nevi",
          "Melanocytic Nevi",
          "Melanocytic Nevi"
         ],
         "legendgroup": "Melanocytic Nevi",
         "marker": {
          "color": "#8b4225",
          "size": [
           858,
           7,
           1425,
           200,
           30,
           100,
           281,
           45,
           55,
           1479,
           81,
           45,
           1238,
           159,
           655
          ],
          "sizemode": "area",
          "sizeref": 0.1479,
          "symbol": "circle"
         },
         "mode": "markers",
         "name": "Melanocytic Nevi",
         "orientation": "h",
         "showlegend": true,
         "type": "scatter",
         "x": [
          47.52042007001167,
          37.142857142857146,
          47.25964912280702,
          43.73737373737374,
          47.166666666666664,
          40.9,
          41.88172043010753,
          45.888888888888886,
          37.45454545454545,
          46.572008113590265,
          43.02469135802469,
          41.44444444444444,
          47.99919159256265,
          42.76729559748428,
          46.63859111791731
         ],
         "xaxis": "x",
         "y": [
          "abdomen",
          "acral",
          "back",
          "chest",
          "ear",
          "face",
          "foot",
          "genital",
          "hand",
          "lower extremity",
          "neck",
          "scalp",
          "trunk",
          "unknown",
          "upper extremity"
         ],
         "yaxis": "y"
        }
       ],
       "layout": {
        "height": 800,
        "legend": {
         "itemsizing": "constant",
         "title": {
          "text": "Diagnosis"
         },
         "tracegroupgap": 0
        },
        "margin": {
         "b": 50,
         "l": 50,
         "r": 50,
         "t": 100
        },
        "template": {
         "data": {
          "bar": [
           {
            "error_x": {
             "color": "#2a3f5f"
            },
            "error_y": {
             "color": "#2a3f5f"
            },
            "marker": {
             "line": {
              "color": "#E5ECF6",
              "width": 0.5
             },
             "pattern": {
              "fillmode": "overlay",
              "size": 10,
              "solidity": 0.2
             }
            },
            "type": "bar"
           }
          ],
          "barpolar": [
           {
            "marker": {
             "line": {
              "color": "#E5ECF6",
              "width": 0.5
             },
             "pattern": {
              "fillmode": "overlay",
              "size": 10,
              "solidity": 0.2
             }
            },
            "type": "barpolar"
           }
          ],
          "carpet": [
           {
            "aaxis": {
             "endlinecolor": "#2a3f5f",
             "gridcolor": "white",
             "linecolor": "white",
             "minorgridcolor": "white",
             "startlinecolor": "#2a3f5f"
            },
            "baxis": {
             "endlinecolor": "#2a3f5f",
             "gridcolor": "white",
             "linecolor": "white",
             "minorgridcolor": "white",
             "startlinecolor": "#2a3f5f"
            },
            "type": "carpet"
           }
          ],
          "choropleth": [
           {
            "colorbar": {
             "outlinewidth": 0,
             "ticks": ""
            },
            "type": "choropleth"
           }
          ],
          "contour": [
           {
            "colorbar": {
             "outlinewidth": 0,
             "ticks": ""
            },
            "colorscale": [
             [
              0,
              "#0d0887"
             ],
             [
              0.1111111111111111,
              "#46039f"
             ],
             [
              0.2222222222222222,
              "#7201a8"
             ],
             [
              0.3333333333333333,
              "#9c179e"
             ],
             [
              0.4444444444444444,
              "#bd3786"
             ],
             [
              0.5555555555555556,
              "#d8576b"
             ],
             [
              0.6666666666666666,
              "#ed7953"
             ],
             [
              0.7777777777777778,
              "#fb9f3a"
             ],
             [
              0.8888888888888888,
              "#fdca26"
             ],
             [
              1,
              "#f0f921"
             ]
            ],
            "type": "contour"
           }
          ],
          "contourcarpet": [
           {
            "colorbar": {
             "outlinewidth": 0,
             "ticks": ""
            },
            "type": "contourcarpet"
           }
          ],
          "heatmap": [
           {
            "colorbar": {
             "outlinewidth": 0,
             "ticks": ""
            },
            "colorscale": [
             [
              0,
              "#0d0887"
             ],
             [
              0.1111111111111111,
              "#46039f"
             ],
             [
              0.2222222222222222,
              "#7201a8"
             ],
             [
              0.3333333333333333,
              "#9c179e"
             ],
             [
              0.4444444444444444,
              "#bd3786"
             ],
             [
              0.5555555555555556,
              "#d8576b"
             ],
             [
              0.6666666666666666,
              "#ed7953"
             ],
             [
              0.7777777777777778,
              "#fb9f3a"
             ],
             [
              0.8888888888888888,
              "#fdca26"
             ],
             [
              1,
              "#f0f921"
             ]
            ],
            "type": "heatmap"
           }
          ],
          "heatmapgl": [
           {
            "colorbar": {
             "outlinewidth": 0,
             "ticks": ""
            },
            "colorscale": [
             [
              0,
              "#0d0887"
             ],
             [
              0.1111111111111111,
              "#46039f"
             ],
             [
              0.2222222222222222,
              "#7201a8"
             ],
             [
              0.3333333333333333,
              "#9c179e"
             ],
             [
              0.4444444444444444,
              "#bd3786"
             ],
             [
              0.5555555555555556,
              "#d8576b"
             ],
             [
              0.6666666666666666,
              "#ed7953"
             ],
             [
              0.7777777777777778,
              "#fb9f3a"
             ],
             [
              0.8888888888888888,
              "#fdca26"
             ],
             [
              1,
              "#f0f921"
             ]
            ],
            "type": "heatmapgl"
           }
          ],
          "histogram": [
           {
            "marker": {
             "pattern": {
              "fillmode": "overlay",
              "size": 10,
              "solidity": 0.2
             }
            },
            "type": "histogram"
           }
          ],
          "histogram2d": [
           {
            "colorbar": {
             "outlinewidth": 0,
             "ticks": ""
            },
            "colorscale": [
             [
              0,
              "#0d0887"
             ],
             [
              0.1111111111111111,
              "#46039f"
             ],
             [
              0.2222222222222222,
              "#7201a8"
             ],
             [
              0.3333333333333333,
              "#9c179e"
             ],
             [
              0.4444444444444444,
              "#bd3786"
             ],
             [
              0.5555555555555556,
              "#d8576b"
             ],
             [
              0.6666666666666666,
              "#ed7953"
             ],
             [
              0.7777777777777778,
              "#fb9f3a"
             ],
             [
              0.8888888888888888,
              "#fdca26"
             ],
             [
              1,
              "#f0f921"
             ]
            ],
            "type": "histogram2d"
           }
          ],
          "histogram2dcontour": [
           {
            "colorbar": {
             "outlinewidth": 0,
             "ticks": ""
            },
            "colorscale": [
             [
              0,
              "#0d0887"
             ],
             [
              0.1111111111111111,
              "#46039f"
             ],
             [
              0.2222222222222222,
              "#7201a8"
             ],
             [
              0.3333333333333333,
              "#9c179e"
             ],
             [
              0.4444444444444444,
              "#bd3786"
             ],
             [
              0.5555555555555556,
              "#d8576b"
             ],
             [
              0.6666666666666666,
              "#ed7953"
             ],
             [
              0.7777777777777778,
              "#fb9f3a"
             ],
             [
              0.8888888888888888,
              "#fdca26"
             ],
             [
              1,
              "#f0f921"
             ]
            ],
            "type": "histogram2dcontour"
           }
          ],
          "mesh3d": [
           {
            "colorbar": {
             "outlinewidth": 0,
             "ticks": ""
            },
            "type": "mesh3d"
           }
          ],
          "parcoords": [
           {
            "line": {
             "colorbar": {
              "outlinewidth": 0,
              "ticks": ""
             }
            },
            "type": "parcoords"
           }
          ],
          "pie": [
           {
            "automargin": true,
            "type": "pie"
           }
          ],
          "scatter": [
           {
            "fillpattern": {
             "fillmode": "overlay",
             "size": 10,
             "solidity": 0.2
            },
            "type": "scatter"
           }
          ],
          "scatter3d": [
           {
            "line": {
             "colorbar": {
              "outlinewidth": 0,
              "ticks": ""
             }
            },
            "marker": {
             "colorbar": {
              "outlinewidth": 0,
              "ticks": ""
             }
            },
            "type": "scatter3d"
           }
          ],
          "scattercarpet": [
           {
            "marker": {
             "colorbar": {
              "outlinewidth": 0,
              "ticks": ""
             }
            },
            "type": "scattercarpet"
           }
          ],
          "scattergeo": [
           {
            "marker": {
             "colorbar": {
              "outlinewidth": 0,
              "ticks": ""
             }
            },
            "type": "scattergeo"
           }
          ],
          "scattergl": [
           {
            "marker": {
             "colorbar": {
              "outlinewidth": 0,
              "ticks": ""
             }
            },
            "type": "scattergl"
           }
          ],
          "scattermapbox": [
           {
            "marker": {
             "colorbar": {
              "outlinewidth": 0,
              "ticks": ""
             }
            },
            "type": "scattermapbox"
           }
          ],
          "scatterpolar": [
           {
            "marker": {
             "colorbar": {
              "outlinewidth": 0,
              "ticks": ""
             }
            },
            "type": "scatterpolar"
           }
          ],
          "scatterpolargl": [
           {
            "marker": {
             "colorbar": {
              "outlinewidth": 0,
              "ticks": ""
             }
            },
            "type": "scatterpolargl"
           }
          ],
          "scatterternary": [
           {
            "marker": {
             "colorbar": {
              "outlinewidth": 0,
              "ticks": ""
             }
            },
            "type": "scatterternary"
           }
          ],
          "surface": [
           {
            "colorbar": {
             "outlinewidth": 0,
             "ticks": ""
            },
            "colorscale": [
             [
              0,
              "#0d0887"
             ],
             [
              0.1111111111111111,
              "#46039f"
             ],
             [
              0.2222222222222222,
              "#7201a8"
             ],
             [
              0.3333333333333333,
              "#9c179e"
             ],
             [
              0.4444444444444444,
              "#bd3786"
             ],
             [
              0.5555555555555556,
              "#d8576b"
             ],
             [
              0.6666666666666666,
              "#ed7953"
             ],
             [
              0.7777777777777778,
              "#fb9f3a"
             ],
             [
              0.8888888888888888,
              "#fdca26"
             ],
             [
              1,
              "#f0f921"
             ]
            ],
            "type": "surface"
           }
          ],
          "table": [
           {
            "cells": {
             "fill": {
              "color": "#EBF0F8"
             },
             "line": {
              "color": "white"
             }
            },
            "header": {
             "fill": {
              "color": "#C8D4E3"
             },
             "line": {
              "color": "white"
             }
            },
            "type": "table"
           }
          ]
         },
         "layout": {
          "annotationdefaults": {
           "arrowcolor": "#2a3f5f",
           "arrowhead": 0,
           "arrowwidth": 1
          },
          "autotypenumbers": "strict",
          "coloraxis": {
           "colorbar": {
            "outlinewidth": 0,
            "ticks": ""
           }
          },
          "colorscale": {
           "diverging": [
            [
             0,
             "#8e0152"
            ],
            [
             0.1,
             "#c51b7d"
            ],
            [
             0.2,
             "#de77ae"
            ],
            [
             0.3,
             "#f1b6da"
            ],
            [
             0.4,
             "#fde0ef"
            ],
            [
             0.5,
             "#f7f7f7"
            ],
            [
             0.6,
             "#e6f5d0"
            ],
            [
             0.7,
             "#b8e186"
            ],
            [
             0.8,
             "#7fbc41"
            ],
            [
             0.9,
             "#4d9221"
            ],
            [
             1,
             "#276419"
            ]
           ],
           "sequential": [
            [
             0,
             "#0d0887"
            ],
            [
             0.1111111111111111,
             "#46039f"
            ],
            [
             0.2222222222222222,
             "#7201a8"
            ],
            [
             0.3333333333333333,
             "#9c179e"
            ],
            [
             0.4444444444444444,
             "#bd3786"
            ],
            [
             0.5555555555555556,
             "#d8576b"
            ],
            [
             0.6666666666666666,
             "#ed7953"
            ],
            [
             0.7777777777777778,
             "#fb9f3a"
            ],
            [
             0.8888888888888888,
             "#fdca26"
            ],
            [
             1,
             "#f0f921"
            ]
           ],
           "sequentialminus": [
            [
             0,
             "#0d0887"
            ],
            [
             0.1111111111111111,
             "#46039f"
            ],
            [
             0.2222222222222222,
             "#7201a8"
            ],
            [
             0.3333333333333333,
             "#9c179e"
            ],
            [
             0.4444444444444444,
             "#bd3786"
            ],
            [
             0.5555555555555556,
             "#d8576b"
            ],
            [
             0.6666666666666666,
             "#ed7953"
            ],
            [
             0.7777777777777778,
             "#fb9f3a"
            ],
            [
             0.8888888888888888,
             "#fdca26"
            ],
            [
             1,
             "#f0f921"
            ]
           ]
          },
          "colorway": [
           "#636efa",
           "#EF553B",
           "#00cc96",
           "#ab63fa",
           "#FFA15A",
           "#19d3f3",
           "#FF6692",
           "#B6E880",
           "#FF97FF",
           "#FECB52"
          ],
          "font": {
           "color": "#2a3f5f"
          },
          "geo": {
           "bgcolor": "white",
           "lakecolor": "white",
           "landcolor": "#E5ECF6",
           "showlakes": true,
           "showland": true,
           "subunitcolor": "white"
          },
          "hoverlabel": {
           "align": "left"
          },
          "hovermode": "closest",
          "mapbox": {
           "style": "light"
          },
          "paper_bgcolor": "white",
          "plot_bgcolor": "#E5ECF6",
          "polar": {
           "angularaxis": {
            "gridcolor": "white",
            "linecolor": "white",
            "ticks": ""
           },
           "bgcolor": "#E5ECF6",
           "radialaxis": {
            "gridcolor": "white",
            "linecolor": "white",
            "ticks": ""
           }
          },
          "scene": {
           "xaxis": {
            "backgroundcolor": "#E5ECF6",
            "gridcolor": "white",
            "gridwidth": 2,
            "linecolor": "white",
            "showbackground": true,
            "ticks": "",
            "zerolinecolor": "white"
           },
           "yaxis": {
            "backgroundcolor": "#E5ECF6",
            "gridcolor": "white",
            "gridwidth": 2,
            "linecolor": "white",
            "showbackground": true,
            "ticks": "",
            "zerolinecolor": "white"
           },
           "zaxis": {
            "backgroundcolor": "#E5ECF6",
            "gridcolor": "white",
            "gridwidth": 2,
            "linecolor": "white",
            "showbackground": true,
            "ticks": "",
            "zerolinecolor": "white"
           }
          },
          "shapedefaults": {
           "line": {
            "color": "#2a3f5f"
           }
          },
          "ternary": {
           "aaxis": {
            "gridcolor": "white",
            "linecolor": "white",
            "ticks": ""
           },
           "baxis": {
            "gridcolor": "white",
            "linecolor": "white",
            "ticks": ""
           },
           "bgcolor": "#E5ECF6",
           "caxis": {
            "gridcolor": "white",
            "linecolor": "white",
            "ticks": ""
           }
          },
          "title": {
           "x": 0.05
          },
          "xaxis": {
           "automargin": true,
           "gridcolor": "white",
           "linecolor": "white",
           "ticks": "",
           "title": {
            "standoff": 15
           },
           "zerolinecolor": "white",
           "zerolinewidth": 2
          },
          "yaxis": {
           "automargin": true,
           "gridcolor": "white",
           "linecolor": "white",
           "ticks": "",
           "title": {
            "standoff": 15
           },
           "zerolinecolor": "white",
           "zerolinewidth": 2
          }
         }
        },
        "title": {
         "text": "Diagnosis Frequency by Localization and Average Age",
         "x": 0.5,
         "xanchor": "center",
         "y": 0.95,
         "yanchor": "top"
        },
        "width": 1200,
        "xaxis": {
         "anchor": "y",
         "domain": [
          0,
          1
         ],
         "title": {
          "text": "Average Age"
         }
        },
        "yaxis": {
         "anchor": "x",
         "domain": [
          0,
          1
         ],
         "title": {
          "text": "Localization"
         }
        }
       }
      }
     },
     "metadata": {},
     "output_type": "display_data"
    },
    {
     "name": "stdout",
     "output_type": "stream",
     "text": [
      "Your interactive plot is hosted at: https://plotly.com/~nmitchell1219/3/\n"
     ]
    }
   ],
   "source": [
    "import chart_studio.plotly as py\n",
    "import chart_studio.tools as tls\n",
    "\n",
    "bubble_data = data.groupby(['Diagnosis', 'Localization']).agg(\n",
    "    Average_Age=('Age', 'mean'),\n",
    "    Frequency=('Diagnosis', 'size')\n",
    ").reset_index()\n",
    "\n",
    "legend_order = ['Melanoma', 'Basal Cell Carcinoma', 'Actinic Keratosis', 'Vascular Lesions', 'Benign Keratosis', 'Dermatofibroma', 'Melanocytic Nevi']\n",
    "\n",
    "bubble_data['Diagnosis'] = pd.Categorical(bubble_data['Diagnosis'], categories=legend_order, ordered=True)\n",
    "\n",
    "diagnosis_colors = {\n",
    "    'Melanoma': '#1d0200',\n",
    "    'Actinic Keratosis': '#c44240',\n",
    "    'Basal Cell Carcinoma': '#840000',\n",
    "    'Vascular Lesions': '#fdd5b1',\n",
    "    'Benign Keratosis': '#ff9a8a',\n",
    "    'Dermatofibroma': '#bd6c48',\n",
    "    'Melanocytic Nevi': '#8b4225'\n",
    "}\n",
    "fig = px.scatter(\n",
    "    bubble_data,\n",
    "    x='Average_Age',\n",
    "    y='Localization',\n",
    "    size='Frequency',\n",
    "    color='Diagnosis',\n",
    "        hover_name='Diagnosis',\n",
    "    size_max=100,\n",
    "    color_discrete_map=diagnosis_colors,\n",
    "    category_orders={'Diagnosis': legend_order},\n",
    "    labels={\n",
    "        \"Average_Age\": \"Average Age\",\n",
    "        \"Localization\": \"Localization\",\n",
    "        \"Diagnosis\": \"Diagnosis\",\n",
    "        \"Frequency\": \"Frequency of Diagnoses\"\n",
    "    },\n",
    "    title=\"An Overview of Our Data: Diagnosis Frequency by Localization and Average Age\"\n",
    ")\n",
    "\n",
    "fig.update_layout(\n",
    "    xaxis_title='Average Age',\n",
    "    yaxis_title='Localization',\n",
    "    legend_title='Diagnosis',\n",
    "    height=800,\n",
    "    width=1200,\n",
    "    margin=dict(l=50, r=50, t=100, b=50),\n",
    "    title={\n",
    "        'text': \"Diagnosis Frequency by Localization and Average Age\",\n",
    "        'y':0.95,\n",
    "        'x':0.5,\n",
    "        'xanchor': 'center',\n",
    "        'yanchor': 'top'\n",
    "    }\n",
    ")\n",
    "\n",
    "fig.show()\n",
    "\n",
    "url = py.plot(fig, filename=',InteractiveBubbleChart', auto_open=True, sharing='public')\n",
    "print(\"Your interactive plot is hosted at:\", url)"
   ]
  }
 ],
 "metadata": {
  "kernelspec": {
   "display_name": "dev",
   "language": "python",
   "name": "python3"
  },
  "language_info": {
   "codemirror_mode": {
    "name": "ipython",
    "version": 3
   },
   "file_extension": ".py",
   "mimetype": "text/x-python",
   "name": "python",
   "nbconvert_exporter": "python",
   "pygments_lexer": "ipython3",
   "version": "3.10.13"
  }
 },
 "nbformat": 4,
 "nbformat_minor": 2
}
